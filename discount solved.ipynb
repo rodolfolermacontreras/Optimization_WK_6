{
 "cells": [
  {
   "cell_type": "markdown",
   "metadata": {},
   "source": [
    "<b>Minimum Order: Discounts</b>\n",
    "\n",
    "<img src=\"discount.jpg\" width=55% align=\"left\">"
   ]
  },
  {
   "cell_type": "markdown",
   "metadata": {},
   "source": [
    "### Procurement Problem:\n",
    "\n",
    "**Summary:** The goal is to minimize the total procurement cost while satisfying demand. Procurement must respect the capacity and tier-level constraints for each supplier. Each supplier provides different tiers (Low, Medium, High), with different prices and quantities. A supplier can only supply from one tier at a time.\n",
    "\n",
    "***Let us denote:***\n",
    "\n",
    "- $S$ as the set of all suppliers (Supplier 1 to Supplier 3 in this case).\n",
    "- $T$ as the set of tiers for each supplier (Low, Medium, High).\n",
    "- $P_{i, j}$ as the price per unit of product from supplier $i$ in tier $j$, for $i \\in S$ and $j \\in T$.\n",
    "- $X_{i, j}$ as the amount ordered from supplier $i$ in tier $j$, for $i \\in S$ and $j \\in T$.\n",
    "- $Y_{i, j}$ as the binary decision variable which equals 1 if tier $j$ for supplier $i$ is selected, 0 otherwise, for $i \\in S$ and $j \\in T$.\n",
    "- $C_{i}$ as the capacity of supplier $i$, for $i \\in S$.\n",
    "\n",
    "**Objective Function:**\n",
    "\n",
    "Minimize the total cost of procurement:\n",
    "\n",
    "$$\\min \\sum_{i \\in S} \\sum_{j \\in T} P_{i, j} \\cdot X_{i, j}$$\n",
    "\n",
    "**Constraints:**\n",
    "\n",
    "1. `Order Amount Constraint:` The total number of items ordered equals the demand.\n",
    "\n",
    "$$\\sum_{i \\in S} \\sum_{j \\in T} X_{i, j} = Demand (7500) $$\n",
    "\n",
    "2. `Minimum Order Constraint:` The amount ordered from a supplier in a tier should be above a certain minimum if that tier is selected:\n",
    "\n",
    "$$X_{i, Medium} \\ge 1000 \\cdot Y_{i, Medium} \\quad for \\: all \\: i \\in S $$\n",
    "\n",
    "$$X_{i, High} \\ge 2500 \\cdot Y_{i, High} \\quad for \\: all \\: i \\in S $$\n",
    "\n",
    "3. `Maximum Order Constraint:` The amount ordered from a supplier in a tier should be less than or equal to the tier's maximum, defined as one less than the threshold of the next tier or the supplier's capacity if that tier is selected:\n",
    "\n",
    "$$X_{i, Low} \\le (999) \\cdot Y_{i, Low} \\quad for \\: all \\: i \\in S $$\n",
    "\n",
    "$$X_{i, Medium} \\le (2499) \\cdot Y_{i, Medium} \\quad for \\: all \\: i \\in S $$\n",
    "\n",
    "$$X_{i, High} \\le C_{i} \\cdot Y_{i, High} \\quad for \\: all \\: i \\in S $$\n",
    "\n",
    "4. `Supplier Tier Selection Constraint:` A supplier can only supply from one tier at a time:\n",
    "\n",
    "$$\\sum_{j \\in T} Y_{i, j} \\le 1 \\quad for \\: all \\: i \\in S $$"
   ]
  },
  {
   "cell_type": "code",
   "execution_count": 3,
   "metadata": {},
   "outputs": [],
   "source": [
    "# data\n",
    "MedThreshold = 1000\n",
    "HighThreshold = 2500\n",
    "\n",
    "Price = {(1,'Low') : 24, (1,'Medium') : 22, (1,'High') : 18,\n",
    "         (2,'Low') : 20, (2,'Medium') : 18, (2,'High') : 16, \n",
    "         (3,'Low') : 22, (3,'Medium') : 19, (3,'High') : 16 }\n",
    "Capacity = {1 : 5000, 2 : 3000, 3 : 4000}\n",
    "\n",
    "Demand = 7500\n",
    "\n",
    "Suppliers = Capacity.keys()\n",
    "Tiers = {j for (i,j) in Price.keys()}"
   ]
  },
  {
   "cell_type": "code",
   "execution_count": 4,
   "metadata": {},
   "outputs": [],
   "source": [
    "from docplex.mp.model import Model\n",
    "mdl = Model()"
   ]
  },
  {
   "cell_type": "code",
   "execution_count": 5,
   "metadata": {},
   "outputs": [],
   "source": [
    "# variables\n",
    "amount = mdl.continuous_var_matrix(Suppliers, Tiers, lb=0, name='amount')\n",
    "select = mdl.binary_var_matrix(Suppliers, Tiers, name='select')"
   ]
  },
  {
   "cell_type": "code",
   "execution_count": 6,
   "metadata": {},
   "outputs": [],
   "source": [
    "# objective\n",
    "mdl.minimize(mdl.sum(Price[i,j]*amount[i,j] for (i,j) in amount))"
   ]
  },
  {
   "cell_type": "code",
   "execution_count": 7,
   "metadata": {},
   "outputs": [],
   "source": [
    "# constraints: min/max order to define the tiers\n",
    "for i in Suppliers:\n",
    "    mdl.add_constraint(amount[i,'Low'] <= (MedThreshold-1)*select[i,'Low'])\n",
    "    mdl.add_constraint(amount[i,'Medium'] >= MedThreshold*select[i,'Medium'])\n",
    "    mdl.add_constraint(amount[i,'Medium'] <= (HighThreshold-1)*select[i,'Medium'])\n",
    "    mdl.add_constraint(amount[i,'High'] >= HighThreshold*select[i,'High'])\n",
    "    mdl.add_constraint(amount[i,'High'] <= Capacity[i]*select[i,'High'])    "
   ]
  },
  {
   "cell_type": "code",
   "execution_count": 8,
   "metadata": {},
   "outputs": [],
   "source": [
    "# select at most one tier per supplier\n",
    "for i in Suppliers:\n",
    "    mdl.add_constraint(mdl.sum(select[i,j] for j in Tiers) <= 1)"
   ]
  },
  {
   "cell_type": "code",
   "execution_count": 9,
   "metadata": {},
   "outputs": [
    {
     "data": {
      "text/plain": [
       "docplex.mp.LinearConstraint[](amount_1_Medium+amount_1_Low+amount_1_High+amount_2_Medium+amount_2_Low+amount_2_High+amount_3_Medium+amount_3_Low+amount_3_High,EQ,7500)"
      ]
     },
     "execution_count": 9,
     "metadata": {},
     "output_type": "execute_result"
    }
   ],
   "source": [
    "# constraint: meet demand\n",
    "mdl.add_constraint(mdl.sum(amount[i,j] for (i,j) in amount) == Demand)"
   ]
  },
  {
   "cell_type": "code",
   "execution_count": 10,
   "metadata": {},
   "outputs": [
    {
     "data": {
      "text/plain": [
       "docplex.mp.SolveDetails(time=0.031,status='integer optimal solution')"
      ]
     },
     "execution_count": 10,
     "metadata": {},
     "output_type": "execute_result"
    }
   ],
   "source": [
    "# solve\n",
    "mdl.solve()\n",
    "mdl.get_solve_details()"
   ]
  },
  {
   "cell_type": "code",
   "execution_count": 11,
   "metadata": {},
   "outputs": [
    {
     "name": "stdout",
     "output_type": "stream",
     "text": [
      "objective: 124000.000\n",
      "  amount_1_Low=500.000\n",
      "  amount_2_High=3000.000\n",
      "  amount_3_High=4000.000\n",
      "  select_1_Low=1\n",
      "  select_2_High=1\n",
      "  select_3_High=1\n"
     ]
    }
   ],
   "source": [
    "mdl.print_solution()"
   ]
  },
  {
   "cell_type": "code",
   "execution_count": null,
   "metadata": {},
   "outputs": [],
   "source": []
  }
 ],
 "metadata": {
  "kernelspec": {
   "display_name": "Python 3 (ipykernel)",
   "language": "python",
   "name": "python3"
  },
  "language_info": {
   "codemirror_mode": {
    "name": "ipython",
    "version": 3
   },
   "file_extension": ".py",
   "mimetype": "text/x-python",
   "name": "python",
   "nbconvert_exporter": "python",
   "pygments_lexer": "ipython3",
   "version": "3.9.16"
  }
 },
 "nbformat": 4,
 "nbformat_minor": 2
}
