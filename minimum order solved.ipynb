{
 "cells": [
  {
   "cell_type": "markdown",
   "metadata": {},
   "source": [
    "<b>Minimum Order</b>\n",
    "\n",
    "<img src=\"minimum order.jpg\" width=35% align=\"left\">"
   ]
  },
  {
   "cell_type": "markdown",
   "metadata": {},
   "source": [
    "### Investment Problem:\n",
    "\n",
    "**Summary:** The objective is to maximize the total expected return from the selected funds within a given budget. This must be done while ensuring that the investment in each fund respects the minimum and maximum investment limits.\n",
    "\n",
    "***Let us denote:***\n",
    "\n",
    "- $F$ as the set of all funds available for investment (Fund 1 to Fund 6 in this case).\n",
    "- $R_{i}$ as the expected return rate for fund $i$, for $i \\in F$.\n",
    "- $Y_{i}$ as the amount invested in fund $i$, for $i \\in F$.\n",
    "- $X_{i}$ as the binary decision variable which equals 1 if fund $i$ is invested, 0 otherwise, for $i \\in F$.\n",
    "\n",
    "**Objective Function:**\n",
    "\n",
    "Maximize the total expected return:\n",
    "\n",
    "$$\\max \\sum_{i \\in F} R_{i} \\cdot Y_{i}$$\n",
    "\n",
    "**Constraints:**\n",
    "\n",
    "1. `Minimum Order Constraint:` If an investment is made in a fund, at least a minimum amount (10,000) should be invested:\n",
    "\n",
    "$$Y_{i} \\ge Minimum \\cdot X_{i} \\quad for \\: all \\: i \\in F $$\n",
    "\n",
    "2. `Maximum Order Constraint:` At most a maximum amount (46,000) can be invested in a fund:\n",
    "\n",
    "$$Y_{i} \\le Maximum \\cdot X_{i} \\quad for \\: all \\: i \\in F $$\n",
    "\n",
    "3. `Budget Constraint:` The total amount invested across all funds does not exceed the budget.\n",
    "\n",
    "$$\\sum_{i \\in F} Y_{i} \\le Budget (100,000) $$\n"
   ]
  },
  {
   "cell_type": "code",
   "execution_count": 1,
   "metadata": {},
   "outputs": [],
   "source": [
    "# data\n",
    "Return = {1 : 0.15, 2 : 0.13, 3 : 0.11, 4 : 0.18, 5 : 0.12, 6 : 0.17}\n",
    "Minimum = 10000\n",
    "Maximum = 46000\n",
    "Budget = 100000\n",
    "Funds = Return.keys()"
   ]
  },
  {
   "cell_type": "code",
   "execution_count": 2,
   "metadata": {},
   "outputs": [],
   "source": [
    "from docplex.mp.model import Model\n",
    "mdl = Model()"
   ]
  },
  {
   "cell_type": "code",
   "execution_count": 3,
   "metadata": {},
   "outputs": [],
   "source": [
    "# variables\n",
    "select = mdl.binary_var_dict(Funds, name='select')\n",
    "amount = mdl.continuous_var_dict(Funds, name='amount')"
   ]
  },
  {
   "cell_type": "code",
   "execution_count": 4,
   "metadata": {},
   "outputs": [],
   "source": [
    "# objective\n",
    "mdl.maximize(mdl.sum(Return[i]*amount[i] for i in Funds))"
   ]
  },
  {
   "cell_type": "code",
   "execution_count": 5,
   "metadata": {},
   "outputs": [],
   "source": [
    "# constraints: minimum and maximum order\n",
    "for i in Funds:\n",
    "    mdl.add_constraint(amount[i] <= Maximum*select[i])\n",
    "    mdl.add_constraint(amount[i] >= Minimum*select[i])"
   ]
  },
  {
   "cell_type": "code",
   "execution_count": 6,
   "metadata": {},
   "outputs": [
    {
     "data": {
      "text/plain": [
       "docplex.mp.LinearConstraint[](amount_1+amount_2+amount_3+amount_4+amount_5+amount_6,LE,100000)"
      ]
     },
     "execution_count": 6,
     "metadata": {},
     "output_type": "execute_result"
    }
   ],
   "source": [
    "# constraint: budget\n",
    "mdl.add_constraint(mdl.sum(amount[i] for i in Funds) <= Budget )"
   ]
  },
  {
   "cell_type": "code",
   "execution_count": 7,
   "metadata": {},
   "outputs": [
    {
     "data": {
      "text/plain": [
       "docplex.mp.SolveDetails(time=0.078,status='integer optimal solution')"
      ]
     },
     "execution_count": 7,
     "metadata": {},
     "output_type": "execute_result"
    }
   ],
   "source": [
    "# solve\n",
    "mdl.solve()\n",
    "mdl.get_solve_details()"
   ]
  },
  {
   "cell_type": "code",
   "execution_count": 8,
   "metadata": {},
   "outputs": [
    {
     "name": "stdout",
     "output_type": "stream",
     "text": [
      "objective: 17260.000\n",
      "  select_1=1\n",
      "  select_4=1\n",
      "  select_6=1\n",
      "  amount_1=10000.000\n",
      "  amount_4=46000.000\n",
      "  amount_6=44000.000\n"
     ]
    }
   ],
   "source": [
    "mdl.print_solution()"
   ]
  },
  {
   "cell_type": "code",
   "execution_count": null,
   "metadata": {},
   "outputs": [],
   "source": []
  }
 ],
 "metadata": {
  "kernelspec": {
   "display_name": "Python 3 (ipykernel)",
   "language": "python",
   "name": "python3"
  },
  "language_info": {
   "codemirror_mode": {
    "name": "ipython",
    "version": 3
   },
   "file_extension": ".py",
   "mimetype": "text/x-python",
   "name": "python",
   "nbconvert_exporter": "python",
   "pygments_lexer": "ipython3",
   "version": "3.9.16"
  }
 },
 "nbformat": 4,
 "nbformat_minor": 2
}
