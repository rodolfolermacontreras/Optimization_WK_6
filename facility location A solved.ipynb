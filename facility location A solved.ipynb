{
 "cells": [
  {
   "cell_type": "markdown",
   "metadata": {},
   "source": [
    "<b>Facility Location: Variant A</b>\n",
    "\n",
    "<img src=\"facility location A.jpg\" width=55% align=\"left\">"
   ]
  },
  {
   "cell_type": "markdown",
   "metadata": {},
   "source": [
    "### Facility Location Problem (Variant A):\n",
    "\n",
    "**Summary:** The goal is to maximize the number of districts covered by the fire stations while staying within a budget of $2 million. Each fire station can cover the district it is located in, as well as neighboring districts.\n",
    "\n",
    "***Let us denote:***\n",
    "\n",
    "- $D$ as the set of all districts (from District 1 to District 16 in this case).\n",
    "- $N_{i}$ as the set of neighboring districts for district $i$, for $i \\in D$.\n",
    "- $c_{i}$ as the cost of placing a fire station in district $i$, for $i \\in D$.\n",
    "- $x_{i}$ as the binary decision variable which equals 1 if a fire station is placed in district $i$, 0 otherwise, for $i \\in D$.\n",
    "- $y_{i}$ as the binary decision variable which equals 1 if district $i$ is covered, 0 otherwise, for $i \\in D$.\n",
    "- $B$ as the budget ($2 million).\n",
    "\n",
    "**Objective Function:**\n",
    "\n",
    "Maximize the total number of districts covered:\n",
    "\n",
    "$$\\max \\sum_{i \\in D} y_{i}$$\n",
    "\n",
    "**Constraints:**\n",
    "\n",
    "1. `Coverage Constraint:` Each district should be covered by at least one fire station (either in its district or in a neighboring district):\n",
    "\n",
    "$$\\sum_{i \\in N_{j}} x_{i} \\ge y_{j} \\quad for \\: all \\: j \\in D $$\n",
    "\n",
    "2. `Budget Constraint:` The total cost of placing fire stations does not exceed the budget.\n",
    "\n",
    "$$\\sum_{i \\in D} c_{i} \\cdot x_{i} \\le B$$\n",
    "\n",
    "In this problem, we aim to maximize the coverage of fire stations across the districts while respecting the budget constraint. The solution indicates which districts should have fire stations to achieve this objective."
   ]
  },
  {
   "cell_type": "code",
   "execution_count": 1,
   "metadata": {},
   "outputs": [],
   "source": [
    "import csv\n",
    "f = open(\"set_covering.csv\")\n",
    "csvfile = csv.DictReader(f, delimiter='\\t')\n",
    "\n",
    "headers = csvfile.fieldnames\n",
    "\n",
    "table = []\n",
    "for row in csvfile:\n",
    "    table.append(row)\n",
    "    \n",
    "f.close()"
   ]
  },
  {
   "cell_type": "code",
   "execution_count": 2,
   "metadata": {},
   "outputs": [],
   "source": [
    "Districts = headers[:]\n",
    "Districts.remove('District')"
   ]
  },
  {
   "cell_type": "code",
   "execution_count": 3,
   "metadata": {},
   "outputs": [],
   "source": [
    "Cost = {}\n",
    "for i in Districts:\n",
    "    Cost[i] = float(table[0][i])\n",
    "    \n",
    "Budget = 2000"
   ]
  },
  {
   "cell_type": "code",
   "execution_count": 4,
   "metadata": {},
   "outputs": [],
   "source": [
    "# create a set of neighbors for each district\n",
    "Neighbors = {}\n",
    "# loop over the rows of the adjacency matrix\n",
    "for i in range(1,len(table)):\n",
    "    # define empty set\n",
    "    tmpSet = set()\n",
    "    # loop over all districts (headers)\n",
    "    for j in Districts:\n",
    "        # if table == 1 : add the district to the set\n",
    "        if table[i][j] == '1':\n",
    "            tmpSet.add(j)\n",
    "    # assign the set to the district corresponding to row i\n",
    "    D = table[i]['District']\n",
    "    Neighbors[D] = tmpSet"
   ]
  },
  {
   "cell_type": "code",
   "execution_count": 5,
   "metadata": {},
   "outputs": [],
   "source": [
    "from docplex.mp.model import Model\n",
    "mdl = Model()"
   ]
  },
  {
   "cell_type": "code",
   "execution_count": 6,
   "metadata": {},
   "outputs": [],
   "source": [
    "# variables\n",
    "select = mdl.binary_var_dict(Districts, name='select')\n",
    "isCovered = mdl.binary_var_dict(Districts, name='is covered')"
   ]
  },
  {
   "cell_type": "code",
   "execution_count": 7,
   "metadata": {},
   "outputs": [],
   "source": [
    "# objective\n",
    "mdl.maximize(mdl.sum(isCovered[i] for i in Districts))"
   ]
  },
  {
   "cell_type": "code",
   "execution_count": 8,
   "metadata": {},
   "outputs": [],
   "source": [
    "# constraints: cover each district\n",
    "IsDistrictCovered = {}\n",
    "for j in Districts:\n",
    "    IsDistrictCovered[j] = mdl.add_constraint(mdl.sum(select[i] for i in Neighbors[j]) >= isCovered[j])"
   ]
  },
  {
   "cell_type": "code",
   "execution_count": 9,
   "metadata": {},
   "outputs": [
    {
     "data": {
      "text/plain": [
       "docplex.mp.LinearConstraint[](600select_D1+680select_D2+560select_D3+880select_D4+670select_D5+740select_D6+590select_D7+900select_D8+920select_D9+460select_D10+910select_D11+800select_D12+720select_D13+500select_D14+640select_D15+400select_D16,LE,2000)"
      ]
     },
     "execution_count": 9,
     "metadata": {},
     "output_type": "execute_result"
    }
   ],
   "source": [
    "# budget constraint\n",
    "mdl.add_constraint(mdl.sum(Cost[i]*select[i] for i in Districts) <= Budget)"
   ]
  },
  {
   "cell_type": "code",
   "execution_count": 10,
   "metadata": {},
   "outputs": [
    {
     "data": {
      "text/plain": [
       "docplex.mp.SolveDetails(time=0.032,status='integer optimal solution')"
      ]
     },
     "execution_count": 10,
     "metadata": {},
     "output_type": "execute_result"
    }
   ],
   "source": [
    "# solve\n",
    "mdl.solve()\n",
    "mdl.get_solve_details()"
   ]
  },
  {
   "cell_type": "code",
   "execution_count": 11,
   "metadata": {},
   "outputs": [
    {
     "name": "stdout",
     "output_type": "stream",
     "text": [
      "objective: 15\n",
      "  \"select_D6\"=1\n",
      "  \"select_D10\"=1\n",
      "  \"select_D13\"=1\n",
      "  \"is covered_D2\"=1\n",
      "  \"is covered_D3\"=1\n",
      "  \"is covered_D4\"=1\n",
      "  \"is covered_D5\"=1\n",
      "  \"is covered_D6\"=1\n",
      "  \"is covered_D7\"=1\n",
      "  \"is covered_D8\"=1\n",
      "  \"is covered_D9\"=1\n",
      "  \"is covered_D10\"=1\n",
      "  \"is covered_D11\"=1\n",
      "  \"is covered_D12\"=1\n",
      "  \"is covered_D13\"=1\n",
      "  \"is covered_D14\"=1\n",
      "  \"is covered_D15\"=1\n",
      "  \"is covered_D16\"=1\n"
     ]
    }
   ],
   "source": [
    "mdl.print_solution()"
   ]
  },
  {
   "cell_type": "code",
   "execution_count": 12,
   "metadata": {},
   "outputs": [
    {
     "name": "stdout",
     "output_type": "stream",
     "text": [
      "District D1: 0\n",
      "District D2: 1\n",
      "District D3: 1\n",
      "District D4: 1\n",
      "District D5: 1\n",
      "District D6: 1\n",
      "District D7: 2\n",
      "District D8: 1\n",
      "District D9: 2\n",
      "District D10: 1\n",
      "District D11: 1\n",
      "District D12: 1\n",
      "District D13: 1\n",
      "District D14: 1\n",
      "District D15: 1\n",
      "District D16: 1\n"
     ]
    }
   ],
   "source": [
    "# inspect how often each district is covered\n",
    "for j in Districts:\n",
    "    print(\"District \" + j + \": \" + str(IsDistrictCovered[j].lhs.solution_value))"
   ]
  },
  {
   "cell_type": "code",
   "execution_count": null,
   "metadata": {},
   "outputs": [],
   "source": []
  }
 ],
 "metadata": {
  "kernelspec": {
   "display_name": "Python 3 (ipykernel)",
   "language": "python",
   "name": "python3"
  },
  "language_info": {
   "codemirror_mode": {
    "name": "ipython",
    "version": 3
   },
   "file_extension": ".py",
   "mimetype": "text/x-python",
   "name": "python",
   "nbconvert_exporter": "python",
   "pygments_lexer": "ipython3",
   "version": "3.9.16"
  }
 },
 "nbformat": 4,
 "nbformat_minor": 2
}
