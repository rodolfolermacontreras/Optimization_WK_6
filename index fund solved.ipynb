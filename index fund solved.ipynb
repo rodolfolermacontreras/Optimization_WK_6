{
 "cells": [
  {
   "cell_type": "markdown",
   "metadata": {},
   "source": [
    "<b>Facility Location in Disguise: Creating an Index Fund</b>\n",
    "\n",
    "<img src=\"index fund.jpg\" width=40% align=\"left\">"
   ]
  },
  {
   "cell_type": "markdown",
   "metadata": {},
   "source": [
    "### Investment Problem:\n",
    "\n",
    "**Summary:** The objective is to maximize the total expected return from the selected funds within a given budget. This must be done while ensuring that the investment in each fund respects the minimum and maximum investment limits.\n",
    "\n",
    "***Let us denote:***\n",
    "\n",
    "- $F$ as the set of all funds available for investment (Fund 1 to Fund 6 in this case).\n",
    "- $R_{i}$ as the expected return rate for fund $i$, for $i \\in F$.\n",
    "- $Y_{i}$ as the amount invested in fund $i$, for $i \\in F$.\n",
    "- $X_{i}$ as the binary decision variable which equals 1 if fund $i$ is invested, 0 otherwise, for $i \\in F$.\n",
    "\n",
    "**Objective Function:**\n",
    "\n",
    "Maximize the total expected return:\n",
    "\n",
    "$$\\max \\sum_{i \\in F} R_{i} \\cdot Y_{i}$$\n",
    "\n",
    "**Constraints:**\n",
    "\n",
    "1. `Minimum Order Constraint:` If an investment is made in a fund, at least a minimum amount (10,000) should be invested:\n",
    "\n",
    "$$Y_{i} \\ge Minimum \\cdot X_{i} \\quad for \\: all \\: i \\in F $$\n",
    "\n",
    "2. `Maximum Order Constraint:` At most a maximum amount (46,000) can be invested in a fund:\n",
    "\n",
    "$$Y_{i} \\le Maximum \\cdot X_{i} \\quad for \\: all \\: i \\in F $$\n",
    "\n",
    "3. `Budget Constraint:` The total amount invested across all funds does not exceed the budget.\n",
    "\n",
    "$$\\sum_{i \\in F} Y_{i} \\le Budget (100,000) $$"
   ]
  },
  {
   "cell_type": "code",
   "execution_count": 1,
   "metadata": {},
   "outputs": [],
   "source": [
    "# data\n",
    "\n",
    "# maximum size of index fund\n",
    "MaxSize = 3\n",
    "\n",
    "# price correlations\n",
    "Correlation = {\n",
    "    ('IBM','IBM') : 1, \t('IBM','XOM') : -0.369912249223585, \t('IBM','GE') : 0.637915862021035, \t('IBM','MSFT') : 0.619978160204467, \t('IBM','C') : -0.109701236270012, \t('IBM','BAC') : -0.487204208903059, \t('IBM','BP') : 0.127000022966202, \t('IBM','PG') : 0.218671757810407, \t('IBM','PFE') : 0.366178148492572, \t('IBM','JNJ') : -0.468498655414729, \n",
    "    ('XOM','IBM') : -0.369912249223585, \t('XOM','XOM') : 1, \t('XOM','GE') : -0.264547368162008, \t('XOM','MSFT') : -0.165792463721373, \t('XOM','C') : 0.284535158951185, \t('XOM','BAC') : 0.651942944719909, \t('XOM','BP') : 0.67176847888286, \t('XOM','PG') : 0.00731987485559896, \t('XOM','PFE') : 0.236141341860775, \t('XOM','JNJ') : 0.279141271025777, \n",
    "    ('GE','IBM') : 0.637915862021035, \t('GE','XOM') : -0.264547368162008, \t('GE','GE') : 1, \t('GE','MSFT') : -0.0183639154235676, \t('GE','C') : 0.547250214871262, \t('GE','BAC') : 0.107880257724458, \t('GE','BP') : 0.225442395595862, \t('GE','PG') : -0.327172221310227, \t('GE','PFE') : -0.14474212659407, \t('GE','JNJ') : 0.0983874687715698, \n",
    "    ('MSFT','IBM') : 0.619978160204467, \t('MSFT','XOM') : -0.165792463721373, \t('MSFT','GE') : -0.0183639154235676, \t('MSFT','MSFT') : 1, \t('MSFT','C') : -0.697208214634671, \t('MSFT','BAC') : -0.711556338396293, \t('MSFT','BP') : -0.174543464915867, \t('MSFT','PG') : 0.719708814608548, \t('MSFT','PFE') : 0.594581033501424, \t('MSFT','JNJ') : -0.501509966035076, \n",
    "    ('C','IBM') : -0.109701236270012, \t('C','XOM') : 0.284535158951185, \t('C','GE') : 0.547250214871262, \t('C','MSFT') : -0.697208214634671, \t('C','C') : 1, \t('C','BAC') : 0.785783578037774, \t('C','BP') : 0.51547010960769, \t('C','PG') : -0.650498005924636, \t('C','PFE') : -0.352543287958741, \t('C','JNJ') : 0.443406739943099, \n",
    "    ('BAC','IBM') : -0.487204208903059, \t('BAC','XOM') : 0.651942944719909, \t('BAC','GE') : 0.107880257724458, \t('BAC','MSFT') : -0.711556338396293, \t('BAC','C') : 0.785783578037774, \t('BAC','BAC') : 1, \t('BAC','BP') : 0.474801539814155, \t('BAC','PG') : -0.452593985920075, \t('BAC','PFE') : -0.163156462542075, \t('BAC','JNJ') : 0.634810765636561, \n",
    "    ('BP','IBM') : 0.127000022966202, \t('BP','XOM') : 0.67176847888286, \t('BP','GE') : 0.225442395595862, \t('BP','MSFT') : -0.174543464915867, \t('BP','C') : 0.51547010960769, \t('BP','BAC') : 0.474801539814155, \t('BP','BP') : 1, \t('BP','PG') : -0.337540095023533, \t('BP','PFE') : 0.0366435765064088, \t('BP','JNJ') : -0.103956787352896, \n",
    "    ('PG','IBM') : 0.218671757810407, \t('PG','XOM') : 0.00731987485559896, \t('PG','GE') : -0.327172221310227, \t('PG','MSFT') : 0.719708814608548, \t('PG','C') : -0.650498005924636, \t('PG','BAC') : -0.452593985920075, \t('PG','BP') : -0.337540095023533, \t('PG','PG') : 1, \t('PG','PFE') : 0.710709798169271, \t('PG','JNJ') : -0.274492159382354, \n",
    "    ('PFE','IBM') : 0.366178148492572, \t('PFE','XOM') : 0.236141341860775, \t('PFE','GE') : -0.14474212659407, \t('PFE','MSFT') : 0.594581033501424, \t('PFE','C') : -0.352543287958741, \t('PFE','BAC') : -0.163156462542075, \t('PFE','BP') : 0.0366435765064088, \t('PFE','PG') : 0.710709798169271, \t('PFE','PFE') : 1, \t('PFE','JNJ') : -0.282614055114966, \n",
    "    ('JNJ','IBM') : -0.468498655414729, \t('JNJ','XOM') : 0.279141271025777, \t('JNJ','GE') : 0.0983874687715698, \t('JNJ','MSFT') : -0.501509966035076, \t('JNJ','C') : 0.443406739943099, \t('JNJ','BAC') : 0.634810765636561, \t('JNJ','BP') : -0.103956787352896, \t('JNJ','PG') : -0.274492159382354, \t('JNJ','PFE') : -0.282614055114966, \t('JNJ','JNJ') : 1, \n",
    "}"
   ]
  },
  {
   "cell_type": "code",
   "execution_count": 2,
   "metadata": {},
   "outputs": [],
   "source": [
    "# define the set of stocks\n",
    "Stocks = {i for (i,j) in Correlation.keys()}\n",
    "\n",
    "NbStocks = len(Stocks)"
   ]
  },
  {
   "cell_type": "code",
   "execution_count": 5,
   "metadata": {},
   "outputs": [],
   "source": [
    "from docplex.mp.model import Model\n",
    "mdl = Model()"
   ]
  },
  {
   "cell_type": "code",
   "execution_count": 6,
   "metadata": {},
   "outputs": [],
   "source": [
    "# variables\n",
    "inFund = mdl.binary_var_dict(Stocks, name='in fund')\n",
    "match = mdl.binary_var_matrix(Stocks, Stocks, name='match')"
   ]
  },
  {
   "cell_type": "code",
   "execution_count": 7,
   "metadata": {},
   "outputs": [],
   "source": [
    "# objective\n",
    "mdl.maximize(mdl.sum(Correlation[i,j]*match[i,j] for (i,j) in match))"
   ]
  },
  {
   "cell_type": "code",
   "execution_count": 8,
   "metadata": {},
   "outputs": [
    {
     "data": {
      "text/plain": [
       "docplex.mp.LinearConstraint[](in fund_JNJ+in fund_GE+in fund_C+in fund_PG+in fund_BAC+in fund_MSFT+in fund_IBM+in fund_XOM+in fund_PFE+in fund_BP,LE,3)"
      ]
     },
     "execution_count": 8,
     "metadata": {},
     "output_type": "execute_result"
    }
   ],
   "source": [
    "# constraints: maximum size of fund\n",
    "mdl.add_constraint(mdl.sum(inFund[i] for i in Stocks) <= MaxSize)"
   ]
  },
  {
   "cell_type": "code",
   "execution_count": 10,
   "metadata": {},
   "outputs": [],
   "source": [
    "# constraints: match each stock to one other stock\n",
    "for i in Stocks:\n",
    "    mdl.add_constraint(mdl.sum(match[i,j] for j in Stocks) == 1)"
   ]
  },
  {
   "cell_type": "code",
   "execution_count": 11,
   "metadata": {},
   "outputs": [],
   "source": [
    "# constraints: capacity and linkage\n",
    "for j in Stocks:\n",
    "    mdl.add_constraint(mdl.sum(match[i,j] for i in Stocks) <= NbStocks*inFund[j])"
   ]
  },
  {
   "cell_type": "code",
   "execution_count": 13,
   "metadata": {},
   "outputs": [
    {
     "data": {
      "text/plain": [
       "docplex.mp.SolveDetails(time=0.016,status='integer optimal solution')"
      ]
     },
     "execution_count": 13,
     "metadata": {},
     "output_type": "execute_result"
    }
   ],
   "source": [
    "# solve\n",
    "mdl.solve()\n",
    "mdl.get_solve_details()"
   ]
  },
  {
   "cell_type": "code",
   "execution_count": 14,
   "metadata": {},
   "outputs": [
    {
     "name": "stdout",
     "output_type": "stream",
     "text": [
      "objective: 7.616\n",
      "  \"in fund_GE\"=1\n",
      "  \"in fund_PG\"=1\n",
      "  \"in fund_BAC\"=1\n",
      "  \"match_JNJ_BAC\"=1\n",
      "  \"match_GE_GE\"=1\n",
      "  \"match_C_BAC\"=1\n",
      "  \"match_PG_PG\"=1\n",
      "  \"match_BAC_BAC\"=1\n",
      "  \"match_MSFT_PG\"=1\n",
      "  \"match_IBM_GE\"=1\n",
      "  \"match_XOM_BAC\"=1\n",
      "  \"match_PFE_PG\"=1\n",
      "  \"match_BP_BAC\"=1\n"
     ]
    }
   ],
   "source": [
    "mdl.print_solution()"
   ]
  },
  {
   "cell_type": "code",
   "execution_count": null,
   "metadata": {},
   "outputs": [],
   "source": []
  }
 ],
 "metadata": {
  "kernelspec": {
   "display_name": "Python 3 (ipykernel)",
   "language": "python",
   "name": "python3"
  },
  "language_info": {
   "codemirror_mode": {
    "name": "ipython",
    "version": 3
   },
   "file_extension": ".py",
   "mimetype": "text/x-python",
   "name": "python",
   "nbconvert_exporter": "python",
   "pygments_lexer": "ipython3",
   "version": "3.9.16"
  }
 },
 "nbformat": 4,
 "nbformat_minor": 2
}
