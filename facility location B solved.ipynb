{
 "cells": [
  {
   "cell_type": "markdown",
   "metadata": {},
   "source": [
    "<b>Facility Location: Variant B</b>\n",
    "\n",
    "<img src=\"facility location B.jpg\" width=55% align=\"left\">"
   ]
  },
  {
   "cell_type": "markdown",
   "metadata": {},
   "source": [
    "### Facility Location Problem (Variant B):\n",
    "\n",
    "***Let us denote:***\n",
    "\n",
    "- $D$ as the set of all districts (from District 1 to District 16 in this case).\n",
    "- $N_i$ as the set of neighboring districts of district $i$.\n",
    "- $c_i$ as the cost for placing a fire station in district $i$, for $i \\in D$.\n",
    "- $x_i$ as the binary decision variable which equals 1 if a fire station is placed in district $i$, 0 otherwise, for $i \\in D$.\n",
    "- $y_{ij}$ as the binary decision variable which equals 1 if the fire station in district $i$ covers district $j$, 0 otherwise, for $i \\in D$, $j \\in N_i$.\n",
    "\n",
    "**Objective Function:**\n",
    "\n",
    "Minimize the total cost of placing the fire stations:\n",
    "\n",
    "$$\\min \\sum_{i \\in D} c_{i} \\cdot x_{i}$$\n",
    "\n",
    "**Constraints:**\n",
    "\n",
    "1. `Coverage Constraint:` Each district must be covered by at least one fire station.\n",
    "\n",
    "$$\\sum_{i \\in N_{j}} y_{ij} \\ge 1, \\quad \\forall j \\in D$$\n",
    "\n",
    "2. `Capacity Constraint:` A fire station in a district can cover at most 3 districts.\n",
    "\n",
    "$$\\sum_{j \\in N_{i}} y_{ij} \\le 3 \\cdot x_{i}, \\quad \\forall i \\in D$$\n",
    "\n",
    "3. `Binary Decision Variables:`\n",
    "\n",
    "$$x_{i} \\in \\{0,1\\}, \\quad \\forall i \\in D$$\n",
    "\n",
    "$$y_{ij} \\in \\{0,1\\}, \\quad \\forall i \\in D, j \\in N_i$$\n",
    "\n",
    "This problem aims to minimize the total cost of placing the fire stations while ensuring that each district is covered by at least one fire station and a fire station in a district does not cover more than 3 districts."
   ]
  },
  {
   "cell_type": "code",
   "execution_count": 1,
   "metadata": {},
   "outputs": [],
   "source": [
    "import csv\n",
    "f = open(\"set_covering.csv\")\n",
    "csvfile = csv.DictReader(f, delimiter='\\t')\n",
    "\n",
    "headers = csvfile.fieldnames\n",
    "\n",
    "table = []\n",
    "for row in csvfile:\n",
    "    table.append(row)\n",
    "    \n",
    "f.close()"
   ]
  },
  {
   "cell_type": "code",
   "execution_count": 2,
   "metadata": {},
   "outputs": [],
   "source": [
    "Districts = headers[:]\n",
    "Districts.remove('District')"
   ]
  },
  {
   "cell_type": "code",
   "execution_count": 3,
   "metadata": {},
   "outputs": [],
   "source": [
    "Cost = {}\n",
    "for i in Districts:\n",
    "    Cost[i] = float(table[0][i])"
   ]
  },
  {
   "cell_type": "code",
   "execution_count": 4,
   "metadata": {},
   "outputs": [],
   "source": [
    "# create a set of neighbors for each district\n",
    "Neighbors = {}\n",
    "# loop over the rows of the adjacency matrix\n",
    "for i in range(1,len(table)):\n",
    "    # define empty set\n",
    "    tmpSet = set()\n",
    "    # loop over all districts (headers)\n",
    "    for j in Districts:\n",
    "        # if table == 1 : add the district to the set\n",
    "        if table[i][j] == '1':\n",
    "            tmpSet.add(j)\n",
    "    # assign the set to the district corresponding to row i\n",
    "    D = table[i]['District']\n",
    "    Neighbors[D] = tmpSet"
   ]
  },
  {
   "cell_type": "code",
   "execution_count": 5,
   "metadata": {},
   "outputs": [],
   "source": [
    "from docplex.mp.model import Model\n",
    "mdl = Model()"
   ]
  },
  {
   "cell_type": "code",
   "execution_count": 6,
   "metadata": {},
   "outputs": [],
   "source": [
    "# variables\n",
    "select = mdl.binary_var_dict(Districts, name='select')\n",
    "\n",
    "canCoverSet = { (i,j) for i in Districts for j in Neighbors[i] }\n",
    "canCover = mdl.binary_var_dict(canCoverSet, name='can cover')"
   ]
  },
  {
   "cell_type": "code",
   "execution_count": 7,
   "metadata": {},
   "outputs": [],
   "source": [
    "# objective\n",
    "mdl.minimize(mdl.sum(Cost[i]*select[i] for i in Districts))"
   ]
  },
  {
   "cell_type": "code",
   "execution_count": 8,
   "metadata": {},
   "outputs": [],
   "source": [
    "# constraints: cover each district\n",
    "CoverDistrict = {}\n",
    "for j in Districts:\n",
    "    CoverDistrict[j] = mdl.add_constraint(mdl.sum(canCover[i,j] for i in Neighbors[j]) >= 1)"
   ]
  },
  {
   "cell_type": "code",
   "execution_count": 9,
   "metadata": {},
   "outputs": [],
   "source": [
    "# capacity/linking constraints\n",
    "for i in Districts:\n",
    "    mdl.add_constraint(mdl.sum(canCover[i,j] for j in Districts if i in Neighbors[j]) <= 3*select[i])"
   ]
  },
  {
   "cell_type": "code",
   "execution_count": 10,
   "metadata": {},
   "outputs": [
    {
     "data": {
      "text/plain": [
       "docplex.mp.SolveDetails(time=0.266,status='integer optimal solution')"
      ]
     },
     "execution_count": 10,
     "metadata": {},
     "output_type": "execute_result"
    }
   ],
   "source": [
    "# solve\n",
    "mdl.solve()\n",
    "mdl.get_solve_details()"
   ]
  },
  {
   "cell_type": "code",
   "execution_count": 11,
   "metadata": {},
   "outputs": [
    {
     "name": "stdout",
     "output_type": "stream",
     "text": [
      "objective: 3310.000\n",
      "  \"select_D3\"=1\n",
      "  \"select_D5\"=1\n",
      "  \"select_D10\"=1\n",
      "  \"select_D13\"=1\n",
      "  \"select_D14\"=1\n",
      "  \"select_D16\"=1\n",
      "  \"can cover_D5_D8\"=1\n",
      "  \"can cover_D5_D5\"=1\n",
      "  \"can cover_D5_D1\"=1\n",
      "  \"can cover_D16_D16\"=1\n",
      "  \"can cover_D16_D13\"=1\n",
      "  \"can cover_D14_D14\"=1\n",
      "  \"can cover_D3_D2\"=1\n",
      "  \"can cover_D10_D10\"=1\n",
      "  \"can cover_D10_D4\"=1\n",
      "  \"can cover_D16_D15\"=1\n",
      "  \"can cover_D13_D7\"=1\n",
      "  \"can cover_D13_D9\"=1\n",
      "  \"can cover_D3_D6\"=1\n",
      "  \"can cover_D13_D12\"=1\n",
      "  \"can cover_D10_D11\"=1\n",
      "  \"can cover_D3_D3\"=1\n"
     ]
    }
   ],
   "source": [
    "mdl.print_solution()"
   ]
  },
  {
   "cell_type": "code",
   "execution_count": 12,
   "metadata": {},
   "outputs": [
    {
     "name": "stdout",
     "output_type": "stream",
     "text": [
      "District D1: 1\n",
      "District D2: 1\n",
      "District D3: 1\n",
      "District D4: 1\n",
      "District D5: 1\n",
      "District D6: 1\n",
      "District D7: 1\n",
      "District D8: 1\n",
      "District D9: 1\n",
      "District D10: 1\n",
      "District D11: 1\n",
      "District D12: 1\n",
      "District D13: 1\n",
      "District D14: 1\n",
      "District D15: 1\n",
      "District D16: 1\n"
     ]
    }
   ],
   "source": [
    "# inspect how often each district is covered\n",
    "for j in Districts:\n",
    "    print(\"District \" + j + \": \" + str(CoverDistrict[j].lhs.solution_value))"
   ]
  },
  {
   "cell_type": "code",
   "execution_count": null,
   "metadata": {},
   "outputs": [],
   "source": []
  }
 ],
 "metadata": {
  "kernelspec": {
   "display_name": "Python 3 (ipykernel)",
   "language": "python",
   "name": "python3"
  },
  "language_info": {
   "codemirror_mode": {
    "name": "ipython",
    "version": 3
   },
   "file_extension": ".py",
   "mimetype": "text/x-python",
   "name": "python",
   "nbconvert_exporter": "python",
   "pygments_lexer": "ipython3",
   "version": "3.9.16"
  }
 },
 "nbformat": 4,
 "nbformat_minor": 2
}
