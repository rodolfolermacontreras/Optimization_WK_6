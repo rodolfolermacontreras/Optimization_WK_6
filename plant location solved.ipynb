{
 "cells": [
  {
   "cell_type": "markdown",
   "metadata": {},
   "source": [
    "<b>Plant Location</b>\n",
    "\n",
    "<img src=\"plant location.jpg\" width=55% align=\"left\">"
   ]
  },
  {
   "cell_type": "markdown",
   "metadata": {},
   "source": [
    "### Plant Location:\n",
    "\n",
    "**Summary:** The goal is to open new plants to satisfy demands from three customers at the minimum cost.\n",
    "\n",
    "***Let us denote:***\n",
    "\n",
    "- $P$ as the set of all plants (from Plant 1 to Plant 5 in this case).\n",
    "- $C$ as the set of all customers (A, B, C in this case).\n",
    "- $c_{i}$ as the fixed cost of opening plant $i$, for $i \\in P$.\n",
    "- $p_{ij}$ as the production/transportation cost to supply customer $j$ from plant $i$, for $i \\in P$, $j \\in C$.\n",
    "- $D_{j}$ as the demand of customer $j$, for $j \\in C$.\n",
    "- $K_{i}$ as the capacity of plant $i$, for $i \\in P$.\n",
    "- $x_{i}$ as the binary decision variable which equals 1 if plant $i$ is opened, 0 otherwise, for $i \\in P$.\n",
    "- $y_{ij}$ as the amount shipped from plant $i$ to customer $j$, for $i \\in P$, $j \\in C$.\n",
    "\n",
    "**Objective Function:**\n",
    "\n",
    "Minimize the total fixed and supply costs:\n",
    "\n",
    "$$\\min \\sum_{i \\in P} c_{i} \\cdot x_{i} + \\sum_{i \\in P} \\sum_{j \\in C} p_{ij} \\cdot y_{ij}$$\n",
    "\n",
    "**Constraints:**\n",
    "\n",
    "1. `Meet Demand:` The total amount supplied to each customer should meet their demand:\n",
    "\n",
    "$$\\sum_{i \\in P} y_{ij} = D_{j} \\quad for \\: all \\: j \\in C $$\n",
    "\n",
    "2. `Capacity Constraint:` The total amount supplied from each plant should not exceed its capacity, also linking the usage of $y_{ij}$ and $x_{i}$:\n",
    "\n",
    "$$\\sum_{j \\in C} y_{ij} \\le K_{i} \\cdot x_{i} \\quad for \\: all \\: i \\in P $$\n",
    "\n",
    "3. `Non-negativity and Binary Constraints:` The amounts supplied are non-negative and the decision to open a plant is binary:\n",
    "\n",
    "$$y_{ij} \\ge 0 \\quad for \\: all \\: i \\in P, j \\in C$$\n",
    "\n",
    "$$x_{i} \\in \\{0,1\\} \\quad for \\: all \\: i \\in P$$\n",
    "\n",
    "In this problem, we aim to minimize the total cost of opening plants and supplying customers while meeting the demands of each customer and not exceeding the capacity of each plant. The solution indicates which plants should be opened and how much each plant should supply to each customer to achieve this objective.\n"
   ]
  },
  {
   "cell_type": "code",
   "execution_count": 1,
   "metadata": {},
   "outputs": [],
   "source": [
    "# data\n",
    "FixedCost = {1 : 1325000, 2 : 1100000, 3 : 1500000, 4 : 1200000, 5 : 1400000}\n",
    "PlantCapacity = {1 : 40000, 2 : 30000, 3 : 50000, 4 : 20000, 5 : 40000}\n",
    "SupplyCost = {\n",
    "    (1,'A') : 35, \t(1,'B') : 30, \t(1,'C') : 45, \n",
    "    (2,'A') : 45, \t(2,'B') : 40, \t(2,'C') : 50, \n",
    "    (3,'A') : 70, \t(3,'B') : 65, \t(3,'C') : 50, \n",
    "    (4,'A') : 20, \t(4,'B') : 45, \t(4,'C') : 25, \n",
    "    (5,'A') : 65, \t(5,'B') : 45, \t(5,'C') : 45\n",
    "}\n",
    "Demand = {'A' : 40000, 'B' : 25000, 'C' : 35000}"
   ]
  },
  {
   "cell_type": "code",
   "execution_count": 2,
   "metadata": {},
   "outputs": [],
   "source": [
    "Plants = FixedCost.keys()\n",
    "Customers = Demand.keys()"
   ]
  },
  {
   "cell_type": "code",
   "execution_count": 3,
   "metadata": {},
   "outputs": [],
   "source": [
    "from docplex.mp.model import Model\n",
    "mdl = Model()"
   ]
  },
  {
   "cell_type": "code",
   "execution_count": 4,
   "metadata": {},
   "outputs": [],
   "source": [
    "# variables\n",
    "select = mdl.binary_var_dict(Plants, name='select')\n",
    "supply = mdl.continuous_var_matrix(Plants, Customers, lb=0, name='supply')"
   ]
  },
  {
   "cell_type": "code",
   "execution_count": 5,
   "metadata": {},
   "outputs": [
    {
     "data": {
      "text/plain": [
       "DecisionKPI(name=Total supply cost,expr=35supply_1_A+30supply_1_B+45supply_1_C+45supply_2_A+40supply_2_B..)"
      ]
     },
     "execution_count": 5,
     "metadata": {},
     "output_type": "execute_result"
    }
   ],
   "source": [
    "# objective\n",
    "TotalFixedCost = mdl.sum(FixedCost[i]*select[i] for i in Plants)\n",
    "TotalSupplyCost = mdl.sum(SupplyCost[i,j]*supply[i,j] for (i,j) in supply)\n",
    "mdl.minimize(TotalFixedCost + TotalSupplyCost)\n",
    "\n",
    "# add KPIs\n",
    "mdl.add_kpi(TotalFixedCost, 'Total fixed cost')\n",
    "mdl.add_kpi(TotalSupplyCost, 'Total supply cost')"
   ]
  },
  {
   "cell_type": "code",
   "execution_count": 6,
   "metadata": {},
   "outputs": [],
   "source": [
    "# constraints: meet demand\n",
    "for j in Customers:\n",
    "    mdl.add_constraint(mdl.sum(supply[i,j] for i in Plants) == Demand[j])"
   ]
  },
  {
   "cell_type": "code",
   "execution_count": 7,
   "metadata": {},
   "outputs": [],
   "source": [
    "# constraints: capacity and linking constraints\n",
    "for i in Plants:\n",
    "    mdl.add_constraint(mdl.sum(supply[i,j] for j in Customers) <= PlantCapacity[i]*select[i])"
   ]
  },
  {
   "cell_type": "code",
   "execution_count": 8,
   "metadata": {},
   "outputs": [
    {
     "data": {
      "text/plain": [
       "docplex.mp.SolveDetails(time=0.062,status='integer optimal solution')"
      ]
     },
     "execution_count": 8,
     "metadata": {},
     "output_type": "execute_result"
    }
   ],
   "source": [
    "# solve\n",
    "mdl.solve()\n",
    "mdl.get_solve_details()"
   ]
  },
  {
   "cell_type": "code",
   "execution_count": 9,
   "metadata": {},
   "outputs": [
    {
     "name": "stdout",
     "output_type": "stream",
     "text": [
      "objective: 7425000.000\n",
      "  select_1=1\n",
      "  select_4=1\n",
      "  select_5=1\n",
      "  supply_1_A=20000.000\n",
      "  supply_1_B=20000.000\n",
      "  supply_4_A=20000.000\n",
      "  supply_5_B=5000.000\n",
      "  supply_5_C=35000.000\n"
     ]
    }
   ],
   "source": [
    "mdl.print_solution()"
   ]
  },
  {
   "cell_type": "code",
   "execution_count": 10,
   "metadata": {},
   "outputs": [
    {
     "name": "stdout",
     "output_type": "stream",
     "text": [
      "* model docplex_model1 solved with objective = 7425000.000\n",
      "*  KPI: Total fixed cost  = 3925000.000\n",
      "*  KPI: Total supply cost = 3500000.000\n"
     ]
    }
   ],
   "source": [
    "mdl.report()"
   ]
  },
  {
   "cell_type": "code",
   "execution_count": null,
   "metadata": {},
   "outputs": [],
   "source": []
  }
 ],
 "metadata": {
  "kernelspec": {
   "display_name": "Python 3 (ipykernel)",
   "language": "python",
   "name": "python3"
  },
  "language_info": {
   "codemirror_mode": {
    "name": "ipython",
    "version": 3
   },
   "file_extension": ".py",
   "mimetype": "text/x-python",
   "name": "python",
   "nbconvert_exporter": "python",
   "pygments_lexer": "ipython3",
   "version": "3.9.16"
  }
 },
 "nbformat": 4,
 "nbformat_minor": 2
}
