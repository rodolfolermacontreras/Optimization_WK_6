{
 "cells": [
  {
   "cell_type": "markdown",
   "metadata": {},
   "source": [
    "# USPS Problem"
   ]
  },
  {
   "cell_type": "code",
   "execution_count": null,
   "metadata": {},
   "outputs": [],
   "source": []
  },
  {
   "cell_type": "code",
   "execution_count": null,
   "metadata": {},
   "outputs": [],
   "source": []
  },
  {
   "cell_type": "code",
   "execution_count": null,
   "metadata": {},
   "outputs": [],
   "source": [
    "# import the csv data files using pandas\n",
    "import pandas as pd\n",
    "\n",
    "# create DataFrame for the deliveries\n",
    "df_deliveries = pd.read_csv(\"deliveries.csv\").set_index('Delivery')\n",
    "\n",
    "# convert the DataFrame into dictionaries (for convenience--it is also possible to directly use df_deliveries)\n",
    "Origin = {}\n",
    "Destination = {}\n",
    "Available = {}\n",
    "LatestArrival = {}\n",
    "Volume = {}\n",
    "for i in df_deliveries.index:\n",
    "    Origin[i] = df_deliveries['Origin'][i]  # this assigns the i-th element\n",
    "    Destination[i] = df_deliveries['Destination'][i]\n",
    "    Available[i] = df_deliveries['Available'][i]\n",
    "    LatestArrival[i] = df_deliveries['LatestArrival'][i]\n",
    "    Volume[i] = df_deliveries['Volume'][i]"
   ]
  },
  {
   "cell_type": "code",
   "execution_count": null,
   "metadata": {},
   "outputs": [],
   "source": [
    "# Create DataFrame for the trips\n",
    "df_trips = pd.read_csv(\"trips.csv\").set_index('Trip')\n",
    "\n",
    "# Convert the DataFrame into dictionaries (for convenience--it is also possible to directly use df_trips).\n",
    "# The following parameters are easy to define:\n",
    "Cost = {}\n",
    "Capacity = {}\n",
    "Leave = {}\n",
    "Arrive = {}\n",
    "for i in df_trips.index:\n",
    "    Cost[i] = df_trips['Cost'][i]\n",
    "    Capacity[i] = df_trips['Capacity'][i]\n",
    "    Leave[i] = df_trips['Leave'][i]\n",
    "    Arrive[i] = df_trips['Arrive'][i]"
   ]
  },
  {
   "cell_type": "code",
   "execution_count": null,
   "metadata": {},
   "outputs": [],
   "source": [
    "# visits are a bit more challenging: I want this to be a set (or a list) for each trip\n",
    "Visits = {}\n",
    "for i in df_trips.index:\n",
    "    tmpList = []\n",
    "    # each trip has at least two visits\n",
    "    tmpList.append(df_trips['Visit 1'][i])\n",
    "    tmpList.append(df_trips['Visit 2'][i])\n",
    "    # and optionally a third visit (check if not not null)\n",
    "    if pd.notnull(df_trips['Visit 3'][i]):\n",
    "        # note: because of the missing values (NaN), this column is interpreted as type \"float\".\n",
    "        # to make it an integer element, I cast it as \"int\"        \n",
    "        tmpList.append(int(df_trips['Visit 3'][i]))\n",
    "    Visits[i] = tmpList"
   ]
  },
  {
   "cell_type": "code",
   "execution_count": null,
   "metadata": {},
   "outputs": [],
   "source": [
    "# for convenience, define two more index sets\n",
    "Deliveries = df_deliveries.index\n",
    "Trips = df_trips.index"
   ]
  },
  {
   "cell_type": "code",
   "execution_count": null,
   "metadata": {},
   "outputs": [],
   "source": [
    "# Define delivery/trip compatibility\n",
    "#\n",
    "# We are making some strong assumptions here: \n",
    "# - all deliveries are from 1 to 4, from 1 to 5, from 2 to 4, or from 2 to 5;\n",
    "# - trips are either direct or via hub denoted by 3 (all starting from {1,2} and ending in {4,5})\n",
    "# Therefore, we can simply test whether the origin and destination are part of the visits of each trip, and\n",
    "# whether the Available/Leave times and LatestArrival/Arrive times are compatible.\n",
    "#\n",
    "# In general, we would need to have access to the direction of the trip, as well as the intermediate\n",
    "# times of the visits to compile this informatio (as is done in the USPS paper).\n",
    "CanAssign = {}\n",
    "for i in Deliveries:\n",
    "    for r in Trips:\n",
    "        # (note: we can use a backslash \\ to continue a statement on the next line)\n",
    "        if Origin[i] in Visits[r] and Destination[i] in Visits[r] \\\n",
    "        and Available[i] <= Leave[r] and Arrive[r] <= LatestArrival[i]:\n",
    "            CanAssign[i,r] = 1"
   ]
  }
 ],
 "metadata": {
  "kernelspec": {
   "display_name": "Python 3 (ipykernel)",
   "language": "python",
   "name": "python3"
  },
  "language_info": {
   "codemirror_mode": {
    "name": "ipython",
    "version": 3
   },
   "file_extension": ".py",
   "mimetype": "text/x-python",
   "name": "python",
   "nbconvert_exporter": "python",
   "pygments_lexer": "ipython3",
   "version": "3.9.16"
  }
 },
 "nbformat": 4,
 "nbformat_minor": 2
}
